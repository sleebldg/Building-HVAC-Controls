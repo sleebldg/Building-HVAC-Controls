{
 "cells": [
  {
   "cell_type": "markdown",
   "id": "94562753",
   "metadata": {},
   "source": [
    "### Load Libraries & Packages"
   ]
  },
  {
   "cell_type": "code",
   "execution_count": null,
   "id": "61c9bd2b",
   "metadata": {},
   "outputs": [],
   "source": [
    "import numpy as np\n",
    "from scipy.integrate import odeint\n",
    "from scipy.optimize import minimize\n",
    "from scipy.signal import cont2discrete\n",
    "import pickle\n",
    "import matplotlib.pyplot as plt"
   ]
  },
  {
   "cell_type": "markdown",
   "id": "faee5f04",
   "metadata": {},
   "source": [
    "### Import Data"
   ]
  },
  {
   "cell_type": "code",
   "execution_count": null,
   "id": "7171dd51",
   "metadata": {},
   "outputs": [],
   "source": [
    "with open('Data.pickle', 'rb') as f:\n",
    "    Data = pickle.load(f)\n",
    "Ti = Data['Ti'] # indoor air temperature in degC\n",
    "To = Data['To'] # outdoor air temperature in degC\n",
    "q_HVAC = Data['q_HVAC'] # HVAC heating rate in W\n",
    "q_solar = Data['q_solar'] # absorbed solar radiation in W"
   ]
  },
  {
   "cell_type": "markdown",
   "id": "be54d264",
   "metadata": {},
   "source": [
    "### Define functions for grey-box modelling (system identification)\n",
    "Here, you need to define (i) A and B matrixes and (ii) error metric for the parameter estimation"
   ]
  },
  {
   "cell_type": "code",
   "execution_count": null,
   "id": "af843264",
   "metadata": {},
   "outputs": [],
   "source": [
    "def simulation(Ci, Cw, R1, R2, R3):\n",
    "    # continuous time invariant state-space\n",
    "    A = ####### define A #######\n",
    "    B = ####### define B #######\n",
    "    C = np.eye(2)\n",
    "    D = np.zeros((2,3))\n",
    "    \n",
    "    # discrete state-space\n",
    "    Ad, Bd, Cd, Dd, _ = cont2discrete((A,B,C,D), 10*60) # 10 minute time interval\n",
    "    \n",
    "    x = np.zeros((2, N+1))\n",
    "    x[0,0] = 20 # initial Ti\n",
    "    x[1,0] = 15 # initial Tw\n",
    "    \n",
    "    # compute states over the simulation period\n",
    "    for i in range(N):\n",
    "        q_HVAC_t = q_HVAC[i]\n",
    "        q_solar_t = q_solar[i]\n",
    "        To_t = To[i]\n",
    "        u_t = np.array([q_HVAC_t, q_solar_t, To_t])[:,None] # input vector\n",
    "        x[:,i+1:i+2] = np.dot(Ad,x[:,i:i+1]) + np.dot(Bd,u_t)\n",
    "    return x\n",
    "\n",
    "def objective(params):\n",
    "    # scaled for better optimization\n",
    "    Ci = params[0] * 1000000\n",
    "    Cw = params[1] * 10000000\n",
    "    R1 = params[2] * 0.001\n",
    "    R2 = params[3] * 0.001\n",
    "    R3 = params[4] * 0.001\n",
    "    \n",
    "    # run simulation\n",
    "    x = simulation(Ci, Cw, R1, R2, R3)\n",
    "    \n",
    "    # error metric\n",
    "    metric = ####### define error metric #######\n",
    "\n",
    "    return metric"
   ]
  },
  {
   "cell_type": "code",
   "execution_count": null,
   "id": "f18cf6d8",
   "metadata": {},
   "outputs": [],
   "source": [
    "N = To.shape[0] # number of timesteps\n",
    "\n",
    "# parameter estimation\n",
    "init = np.array([1,1,5,1,5]) # initial value for the optimization below\n",
    "ans = minimize(objective, # using a \n",
    "               init,\n",
    "               options={'maxiter':1000,\n",
    "                        'gtol':1e-1\n",
    "                        })\n",
    "params = ans.x # estimated parameters"
   ]
  },
  {
   "cell_type": "code",
   "execution_count": null,
   "id": "5d0147a4",
   "metadata": {},
   "outputs": [],
   "source": [
    "# scale them back\n",
    "Ci = params[0] * 1000000\n",
    "Cw = params[1] * 10000000\n",
    "R1 = params[2] * 0.001\n",
    "R2 = params[3] * 0.001\n",
    "R3 = params[4] * 0.001\n",
    "\n",
    "print('Ci:',Ci)\n",
    "print('Cw:',Cw)\n",
    "print('R1:',R1)\n",
    "print('R2:',R2)\n",
    "print('R3:',R3)\n",
    "\n",
    "x = simulation(Ci, Cw, R1, R2, R3)\n",
    "\n",
    "Ti_simulation = x[0,:] # Indoor temperature \n",
    "Tw_simulation = x[1,:]\n",
    "\n",
    "# plotting\n",
    "t_span = np.arange(0,N+1)\n",
    "fig, ax = plt.subplots(1,2,figsize=(15,5))\n",
    "ax[0].plot(Ti, label='Ti_original')\n",
    "ax[0].plot(Ti_simulation, label='Ti_simulation', linestyle='--')\n",
    "ax[0].plot(Tw_simulation, label='Tw_simulation')\n",
    "ax[0].plot(To, label='To')\n",
    "ax[0].set_xticks(t_span[::6*24],t_span[::6*24]*10/60)\n",
    "ax[0].set_ylabel('Temperature [$\\degree$C]')\n",
    "ax[0].set_xlabel('Time [hour]')\n",
    "ax[0].legend()\n",
    "\n",
    "ax[1].plot(q_HVAC, label='q_HVAC')\n",
    "ax[1].plot(q_solar, label='q_solar')\n",
    "ax[1].set_xticks(t_span[::6*24],t_span[::6*24]*10/60)\n",
    "ax[1].set_ylabel('Energy Rate [W]')\n",
    "ax[1].set_xlabel('Time [hour]')\n",
    "ax[1].legend()\n",
    "\n",
    "plt.show()"
   ]
  }
 ],
 "metadata": {
  "kernelspec": {
   "display_name": "Python 3 (ipykernel)",
   "language": "python",
   "name": "python3"
  },
  "language_info": {
   "codemirror_mode": {
    "name": "ipython",
    "version": 3
   },
   "file_extension": ".py",
   "mimetype": "text/x-python",
   "name": "python",
   "nbconvert_exporter": "python",
   "pygments_lexer": "ipython3",
   "version": "3.9.7"
  }
 },
 "nbformat": 4,
 "nbformat_minor": 5
}
